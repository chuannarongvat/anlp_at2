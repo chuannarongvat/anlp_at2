{
 "cells": [
  {
   "cell_type": "code",
   "execution_count": null,
   "id": "5f62a6b0",
   "metadata": {
    "scrolled": false
   },
   "outputs": [],
   "source": [
    "# !pip install vaderSentiment"
   ]
  },
  {
   "cell_type": "markdown",
   "id": "5703935d",
   "metadata": {},
   "source": [
    "# Import Libraries"
   ]
  },
  {
   "cell_type": "code",
   "execution_count": null,
   "id": "868635cb",
   "metadata": {},
   "outputs": [],
   "source": [
    "import pandas as pd\n",
    "import altair as alt\n",
    "alt.data_transformers.disable_max_rows()\n",
    "\n",
    "import matplotlib.pyplot as plt\n",
    "import matplotlib.patches as mpatches\n",
    "import seaborn as sns\n",
    "import warnings\n",
    "warnings.filterwarnings(\"ignore\", category=DeprecationWarning) \n",
    "\n",
    "from datetime import datetime"
   ]
  },
  {
   "cell_type": "markdown",
   "id": "47d007b4",
   "metadata": {},
   "source": [
    "## Import SentimentIntensityAnalyzer() from vaderSentiment.vaderSentiment "
   ]
  },
  {
   "cell_type": "code",
   "execution_count": null,
   "id": "beaaf2f6",
   "metadata": {},
   "outputs": [],
   "source": [
    "from vaderSentiment.vaderSentiment import SentimentIntensityAnalyzer\n",
    "\n",
    "def sentiment_scores(sentence):\n",
    "    # Create a SentimentIntensityAnalyzer object.\n",
    "    sid = SentimentIntensityAnalyzer()\n",
    "    \n",
    "    # polarity_scores method of SentimentIntensityAnalyzer\n",
    "    sentiment_dict = sid.polarity_scores(sentence)\n",
    "    return sentiment_dict['compound']"
   ]
  },
  {
   "cell_type": "code",
   "execution_count": null,
   "id": "0faeaa6b",
   "metadata": {
    "scrolled": true
   },
   "outputs": [],
   "source": [
    "df = pd.read_csv('csv/txt_processed.csv')"
   ]
  },
  {
   "cell_type": "code",
   "execution_count": null,
   "id": "c0fcdd34",
   "metadata": {},
   "outputs": [],
   "source": [
    "df_cleaned = df.copy().sample(frac=0.25)"
   ]
  },
  {
   "cell_type": "code",
   "execution_count": null,
   "id": "dcb1c382",
   "metadata": {},
   "outputs": [],
   "source": [
    "df_cleaned.head()"
   ]
  },
  {
   "cell_type": "markdown",
   "id": "d89dccc9",
   "metadata": {},
   "source": [
    "## Clear NaN in Text Column and Replace them with string space (\"\")\n",
    "To avoid error from coverting text data to datetime value"
   ]
  },
  {
   "cell_type": "code",
   "execution_count": null,
   "id": "acb3a414",
   "metadata": {},
   "outputs": [],
   "source": [
    "df_cleaned.text.fillna(\"\",inplace=True)"
   ]
  },
  {
   "cell_type": "markdown",
   "id": "b1a29bcc",
   "metadata": {},
   "source": [
    "## Perform Sentimental Analysis to get sentimental score set"
   ]
  },
  {
   "cell_type": "code",
   "execution_count": null,
   "id": "3432f511",
   "metadata": {},
   "outputs": [],
   "source": [
    "df_cleaned['txtmix'] = df_cleaned['title']+df_cleaned['text']"
   ]
  },
  {
   "cell_type": "code",
   "execution_count": null,
   "id": "ce485672",
   "metadata": {},
   "outputs": [],
   "source": [
    "df_cleaned['mix'] = df_cleaned.txtmix.apply(sentiment_scores)"
   ]
  },
  {
   "cell_type": "code",
   "execution_count": null,
   "id": "ca1063a2",
   "metadata": {},
   "outputs": [],
   "source": [
    "df_cleaned['title_sen'] = df_cleaned.title.apply(sentiment_scores)\n",
    "df_cleaned['txt_sen'] = df_cleaned.text.apply(sentiment_scores)"
   ]
  },
  {
   "cell_type": "code",
   "execution_count": null,
   "id": "bb2dd739",
   "metadata": {},
   "outputs": [],
   "source": [
    "df_cleaned['date'] = pd.to_datetime(df_cleaned['date'])"
   ]
  },
  {
   "cell_type": "code",
   "execution_count": null,
   "id": "c38e37e9",
   "metadata": {},
   "outputs": [],
   "source": [
    "df_cleaned['month'] = df_cleaned['date'].dt.month"
   ]
  },
  {
   "cell_type": "markdown",
   "id": "b2254f7c",
   "metadata": {},
   "source": [
    "## Plot Bar Chart to see the score"
   ]
  },
  {
   "cell_type": "markdown",
   "id": "35b3cf3a",
   "metadata": {},
   "source": [
    "Overall sentimental score on Fake News"
   ]
  },
  {
   "cell_type": "code",
   "execution_count": null,
   "id": "41bbf258",
   "metadata": {},
   "outputs": [],
   "source": [
    "source1 = df_cleaned[df_cleaned['label']==0]\n",
    "source2 = df_cleaned[df_cleaned['label']==1]\n",
    "\n",
    "# title_sen = alt.Chart(source).mark_bar().encode(\n",
    "#     alt.X('mix:Q', bin=True),\n",
    "#     y='count()',\n",
    "# ).properties(\n",
    "#     title='Sentimental Score on Fake News'\n",
    "# )\n",
    "\n",
    "month_fake = alt.Chart(source1).mark_bar().encode(\n",
    "    x='month',\n",
    "    y='mix'\n",
    ").properties(\n",
    "    title='Sentimental Score on Fake News by month'\n",
    ")\n",
    "\n",
    "month_true = alt.Chart(source2).mark_bar().encode(\n",
    "    x='month',\n",
    "    y='mix'\n",
    ").properties(\n",
    "    title='Sentimental Score on True News by month'\n",
    ")\n",
    "\n",
    "\n",
    "month_fake | month_true"
   ]
  },
  {
   "cell_type": "markdown",
   "id": "ecee4fda",
   "metadata": {},
   "source": [
    "## Plot Boxplot on Title and Text Columns\n",
    "Sentimental Score of Fake News' Text"
   ]
  },
  {
   "cell_type": "code",
   "execution_count": null,
   "id": "ab11f9c4",
   "metadata": {},
   "outputs": [],
   "source": [
    "sns.set_theme(style=\"ticks\")\n",
    "\n",
    "# Initialize the figure with a logarithmic x axis\n",
    "f, ax = plt.subplots(figsize=(17, 6))\n",
    "\n",
    "# Load the example planets dataset\n",
    "data=df_cleaned[df_cleaned['label']==0]\n",
    "sns.set(font_scale=2)\n",
    "\n",
    "# Plot the orbital period with horizontal boxes\n",
    "sns.boxplot(x=\"txt_sen\", y=\"subject\", data=data,\n",
    "            whis=[0, 100], width=.6, palette=\"vlag\").set(title='Sentimental Score of Fake News Articles')\n",
    "\n",
    "# Add in points to show each observation\n",
    "sns.stripplot(x=\"txt_sen\", y=\"subject\", data=data,\n",
    "              size=4, color=\".3\", linewidth=0)\n",
    "\n",
    "# Tweak the visual presentation\n",
    "ax.xaxis.grid(True)\n",
    "ax.set(ylabel=\"\")\n",
    "sns.despine(trim=True, left=True)"
   ]
  },
  {
   "cell_type": "markdown",
   "id": "d732f193",
   "metadata": {},
   "source": [
    "Sentimental Score of Fake News' Title"
   ]
  },
  {
   "cell_type": "code",
   "execution_count": null,
   "id": "94d6800a",
   "metadata": {},
   "outputs": [],
   "source": [
    "sns.set_theme(style=\"ticks\")\n",
    "\n",
    "# Initialize the figure with a logarithmic x axis\n",
    "f, ax = plt.subplots(figsize=(17, 6))\n",
    "\n",
    "# Load the example planets dataset\n",
    "data=df_cleaned[df_cleaned['label']==0]\n",
    "sns.set(font_scale=2)\n",
    "\n",
    "# Plot the orbital period with horizontal boxes\n",
    "sns.boxplot(x=\"title_sen\", y=\"subject\", data=data,\n",
    "            whis=[0, 100], width=.6, palette=\"vlag\").set(title='Sentimental Score of Fake News Titles')\n",
    "\n",
    "# Add in points to show each observation\n",
    "sns.stripplot(x=\"title_sen\", y=\"subject\", data=data,\n",
    "              size=4, color=\".3\", linewidth=0)\n",
    "\n",
    "# Tweak the visual presentation\n",
    "ax.xaxis.grid(True)\n",
    "ax.set(ylabel=\"\")\n",
    "sns.despine(trim=True, left=True)"
   ]
  },
  {
   "cell_type": "markdown",
   "id": "d22b2aaf",
   "metadata": {},
   "source": [
    "Sentimental Score of True News' Text"
   ]
  },
  {
   "cell_type": "code",
   "execution_count": null,
   "id": "93327059",
   "metadata": {
    "scrolled": false
   },
   "outputs": [],
   "source": [
    "sns.set_theme(style=\"ticks\")\n",
    "\n",
    "# Initialize the figure with a logarithmic x axis\n",
    "f, ax = plt.subplots(figsize=(17, 6))\n",
    "\n",
    "# Load the example planets dataset\n",
    "data=df_cleaned[df_cleaned['label']==1]\n",
    "sns.set(font_scale=2)\n",
    "\n",
    "# Plot the orbital period with horizontal boxes\n",
    "sns.boxplot(x=\"txt_sen\", y=\"subject\", data=data,\n",
    "            whis=[0, 100], width=.6, palette=\"vlag\").set(title='Sentimental Score of True News Articles')\n",
    "\n",
    "# Add in points to show each observation\n",
    "sns.stripplot(x=\"txt_sen\", y=\"subject\", data=data,\n",
    "              size=4, color=\".3\", linewidth=0)\n",
    "\n",
    "# Tweak the visual presentation\n",
    "ax.xaxis.grid(True)\n",
    "ax.set(ylabel=\"\")\n",
    "sns.despine(trim=True, left=True)"
   ]
  },
  {
   "cell_type": "markdown",
   "id": "2d903335",
   "metadata": {},
   "source": [
    "Sentimental Score of True News' Title"
   ]
  },
  {
   "cell_type": "code",
   "execution_count": null,
   "id": "17c2208e",
   "metadata": {},
   "outputs": [],
   "source": [
    "sns.set_theme(style=\"ticks\")\n",
    "\n",
    "# Initialize the figure with a logarithmic x axis\n",
    "f, ax = plt.subplots(figsize=(17, 6))\n",
    "\n",
    "# Load the example planets dataset\n",
    "data=df_cleaned[df_cleaned['label']==1]\n",
    "sns.set(font_scale=2)\n",
    "\n",
    "# Plot the orbital period with horizontal boxes\n",
    "sns.boxplot(x=\"mix\", y=\"subject\", data=data,\n",
    "            whis=[0, 100], width=.6, palette=\"vlag\").set(title='Sentimental Score of True News Titles')\n",
    "\n",
    "# Add in points to show each observation\n",
    "sns.stripplot(x=\"mix\", y=\"subject\", data=data,\n",
    "              size=4, color=\".3\", linewidth=0)\n",
    "\n",
    "# Tweak the visual presentation\n",
    "ax.xaxis.grid(True)\n",
    "ax.set(ylabel=\"\")\n",
    "sns.despine(trim=True, left=True)"
   ]
  },
  {
   "cell_type": "markdown",
   "id": "e996bcb0",
   "metadata": {},
   "source": [
    "## Groupby label and month to compare the mean of sentimental score on Title and Text of Fake and Real News for each month"
   ]
  },
  {
   "cell_type": "code",
   "execution_count": null,
   "id": "d1b26bb3",
   "metadata": {},
   "outputs": [],
   "source": [
    "df_cleaned.head()"
   ]
  },
  {
   "cell_type": "code",
   "execution_count": null,
   "id": "8fce57fc",
   "metadata": {},
   "outputs": [],
   "source": [
    "sns.set(font_scale=1)"
   ]
  },
  {
   "cell_type": "code",
   "execution_count": null,
   "id": "df335bd7",
   "metadata": {},
   "outputs": [],
   "source": [
    "df_cleaned[df_cleaned['label']==0].groupby(['month'])[\"title_sen\",\"txt_sen\"].mean().plot(figsize=(10,6))"
   ]
  },
  {
   "cell_type": "code",
   "execution_count": null,
   "id": "2db019dd",
   "metadata": {
    "scrolled": false
   },
   "outputs": [],
   "source": [
    "df_cleaned[df_cleaned['label']==1].groupby(['month'])[\"title_sen\",\"txt_sen\"].mean().plot(figsize=(10,6))"
   ]
  },
  {
   "cell_type": "code",
   "execution_count": null,
   "id": "2756b0c1",
   "metadata": {},
   "outputs": [],
   "source": [
    "df_cleaned.head()"
   ]
  },
  {
   "cell_type": "code",
   "execution_count": null,
   "id": "02f869c1",
   "metadata": {},
   "outputs": [],
   "source": [
    "sns.set_theme(style=\"white\", context=\"talk\")\n",
    "sns.set(font_scale=1)\n",
    "\n",
    "fig, ax = plt.subplots(figsize=(10, 5))\n",
    "\n",
    "sns.barplot(x='month', y='title_sen', data=df_cleaned[df_cleaned['label']==0], color='#7c94b6')\n",
    "sns.barplot(x='month', y='txt_sen', data=df_cleaned[df_cleaned['label']==0], color='#ff9f9b')\n",
    "\n",
    "# custom legend\n",
    "title_patch = mpatches.Patch(color='#7c94b6', label='Title')\n",
    "text_patch = mpatches.Patch(color='#ff9f9b', label='Text')\n",
    "\n",
    "plt.legend(handles=[title_patch, text_patch])\n",
    "\n",
    "\n",
    "# labels for x & y axis\n",
    "plt.xlabel('Months')\n",
    "plt.ylabel('Sentimental Compound Score')\n",
    "\n",
    " \n",
    "# title of plot\n",
    "plt.title('Sentimental Compound Score of Title & Text on Fake News')\n",
    "plt.show()"
   ]
  },
  {
   "cell_type": "code",
   "execution_count": null,
   "id": "0c0a569e",
   "metadata": {},
   "outputs": [],
   "source": [
    "fig, ax = plt.subplots(figsize=(10, 5))\n",
    "\n",
    "sns.barplot(x='month', y='title_sen', data=df_cleaned[df_cleaned['label']==1], color='#7c94b6')\n",
    "sns.barplot(x='month', y='txt_sen', data=df_cleaned[df_cleaned['label']==1], color='#ff9f9b')\n",
    "\n",
    "# custom legend\n",
    "title_patch = mpatches.Patch(color='#7c94b6', label='Title')\n",
    "text_patch = mpatches.Patch(color='#ff9f9b', label='Text')\n",
    "plt.legend(handles=[title_patch, text_patch])\n",
    "\n",
    "# labels for x & y axis\n",
    "plt.xlabel('Months')\n",
    "plt.ylabel('Sentimental Compound Score')\n",
    "# plt.gcf().autofmt_xdate(rotation=0)\n",
    "\n",
    " \n",
    "# title of plot\n",
    "plt.title('Sentimental Compound Score of Title & Text on True News')\n",
    "plt.show()"
   ]
  },
  {
   "cell_type": "code",
   "execution_count": null,
   "id": "ae9ee815",
   "metadata": {},
   "outputs": [],
   "source": [
    "# f, (ax1, ax2) = plt.subplots(2, 1, figsize=(7, 5), sharex=True)\n",
    "\n",
    "# sns.barplot(x='month', y='title_sen', data=df_cleaned, color='red', alpha=.8, ax=ax1)\n",
    "# ax1.axhline(0, clip_on=False)\n",
    "# ax1.set_ylabel(\"Title\")\n",
    "\n",
    "# sns.barplot(x='month', y='txt_sen', data=df_cleaned, color='blue', alpha=.8, ax=ax2)\n",
    "# ax2.axhline(0, clip_on=False)\n",
    "# ax2.set_ylabel(\"Text\")\n",
    "\n",
    "# # Finalize the plot\n",
    "# sns.despine(bottom=True)\n",
    "# plt.setp(f.axes, yticks=[])\n",
    "# plt.tight_layout(h_pad=2)\n",
    "\n",
    "\n",
    "# # title of plot\n",
    "# plt.title('Sentimental Compound Score of Title & Text')\n",
    "# plt.show()"
   ]
  },
  {
   "cell_type": "code",
   "execution_count": null,
   "id": "48f4507f",
   "metadata": {},
   "outputs": [],
   "source": [
    "df_cleaned.groupby('label')[[\"title_sen\",\"txt_sen\",'mix']].agg(['mean','std','max','min'])"
   ]
  },
  {
   "cell_type": "markdown",
   "id": "c58866e4",
   "metadata": {},
   "source": [
    "## Sentimental Analysis on Web scrapping data"
   ]
  },
  {
   "cell_type": "code",
   "execution_count": null,
   "id": "31d46483",
   "metadata": {},
   "outputs": [],
   "source": [
    "df_fake = pd.read_csv('csv/fake_news.csv', index_col=[0])"
   ]
  },
  {
   "cell_type": "code",
   "execution_count": null,
   "id": "16316c7d",
   "metadata": {},
   "outputs": [],
   "source": [
    "df_fake['title_sentiment'] = df_fake.title.apply(sentiment_scores)\n",
    "df_fake['text_sentiment'] = df_fake.text.apply(sentiment_scores)"
   ]
  },
  {
   "cell_type": "code",
   "execution_count": null,
   "id": "9528b60f",
   "metadata": {},
   "outputs": [],
   "source": [
    "df_true = pd.read_csv('csv/true_news.csv', encoding='unicode_escape', index_col=[0])"
   ]
  },
  {
   "cell_type": "code",
   "execution_count": null,
   "id": "85c7076e",
   "metadata": {},
   "outputs": [],
   "source": [
    "df_true.text.fillna(\"\",inplace=True)"
   ]
  },
  {
   "cell_type": "code",
   "execution_count": null,
   "id": "3ea9b311",
   "metadata": {},
   "outputs": [],
   "source": [
    "df_true['title_sentiment'] = df_true.title.apply(sentiment_scores)\n",
    "df_true['text_sentiment'] = df_true.text.apply(sentiment_scores)"
   ]
  },
  {
   "cell_type": "code",
   "execution_count": null,
   "id": "9fffc184",
   "metadata": {},
   "outputs": [],
   "source": [
    "df_true.head()"
   ]
  },
  {
   "cell_type": "markdown",
   "id": "50b1e893",
   "metadata": {},
   "source": [
    "## Boxplot of Fake News"
   ]
  },
  {
   "cell_type": "code",
   "execution_count": null,
   "id": "58386ef3",
   "metadata": {},
   "outputs": [],
   "source": [
    "sns.set_theme(style=\"ticks\")\n",
    "\n",
    "# Initialize the figure with a logarithmic x axis\n",
    "f, ax = plt.subplots(figsize=(17, 6))\n",
    "\n",
    "# Load the example planets dataset\n",
    "data=df_fake\n",
    "\n",
    "# Plot the orbital period with horizontal boxes\n",
    "sns.boxplot(x=\"title_sentiment\", y=\"subject\", data=data,\n",
    "            whis=[0, 100], width=.6, palette=\"vlag\")\n",
    "\n",
    "# Add in points to show each observation\n",
    "sns.stripplot(x=\"title_sentiment\", y=\"subject\", data=data,\n",
    "              size=4, color=\".3\", linewidth=0)\n",
    "\n",
    "# Tweak the visual presentation\n",
    "ax.xaxis.grid(True)\n",
    "ax.set(ylabel=\"\")\n",
    "ax.set_title(\"Sentimenal Analysis on Fake News Titles\", fontsize=20)\n",
    "sns.despine(trim=True, left=True)"
   ]
  },
  {
   "cell_type": "code",
   "execution_count": null,
   "id": "cb899e03",
   "metadata": {},
   "outputs": [],
   "source": [
    "sns.set_theme(style=\"ticks\")\n",
    "\n",
    "# Initialize the figure with a logarithmic x axis\n",
    "f, ax = plt.subplots(figsize=(17, 6))\n",
    "\n",
    "# Load the example planets dataset\n",
    "data=df_fake\n",
    "\n",
    "# Plot the orbital period with horizontal boxes\n",
    "sns.boxplot(x=\"text_sentiment\", y=\"subject\", data=data,\n",
    "            whis=[0, 100], width=.6, palette=\"vlag\")\n",
    "\n",
    "# Add in points to show each observation\n",
    "sns.stripplot(x=\"text_sentiment\", y=\"subject\", data=data,\n",
    "              size=4, color=\".3\", linewidth=0)\n",
    "\n",
    "# Tweak the visual presentation\n",
    "ax.xaxis.grid(True)\n",
    "ax.set(ylabel=\"\")\n",
    "ax.set_title(\"Sentimenal Analysis on Fake News Text\", fontsize=20)\n",
    "sns.despine(trim=True, left=True)"
   ]
  },
  {
   "cell_type": "markdown",
   "id": "8114086f",
   "metadata": {},
   "source": [
    "## Boxplot of True News"
   ]
  },
  {
   "cell_type": "code",
   "execution_count": null,
   "id": "bf20a614",
   "metadata": {},
   "outputs": [],
   "source": [
    "sns.set_theme(style=\"ticks\")\n",
    "\n",
    "# Initialize the figure with a logarithmic x axis\n",
    "f, ax = plt.subplots(figsize=(17, 6))\n",
    "\n",
    "# Load the example planets dataset\n",
    "data=df_true\n",
    "\n",
    "# Plot the orbital period with horizontal boxes\n",
    "sns.boxplot(x=\"title_sentiment\", y=\"subject\", data=data,\n",
    "            whis=[0, 100], width=.6, palette=\"vlag\")\n",
    "\n",
    "# Add in points to show each observation\n",
    "sns.stripplot(x=\"title_sentiment\", y=\"subject\", data=data,\n",
    "              size=4, color=\".3\", linewidth=0)\n",
    "\n",
    "# Tweak the visual presentation\n",
    "ax.xaxis.grid(True)\n",
    "ax.set(ylabel=\"\")\n",
    "ax.set_title(\"Sentimenal Analysis on True News Titles\", fontsize=20)\n",
    "sns.despine(trim=True, left=True)"
   ]
  },
  {
   "cell_type": "code",
   "execution_count": null,
   "id": "c2fd932e",
   "metadata": {},
   "outputs": [],
   "source": [
    "sns.set_theme(style=\"ticks\")\n",
    "\n",
    "# Initialize the figure with a logarithmic x axis\n",
    "f, ax = plt.subplots(figsize=(17, 6))\n",
    "\n",
    "# Load the example planets dataset\n",
    "data=df_true\n",
    "\n",
    "# Plot the orbital period with horizontal boxes\n",
    "sns.boxplot(x=\"text_sentiment\", y=\"subject\", data=data,\n",
    "            whis=[0, 100], width=.6, palette=\"vlag\")\n",
    "\n",
    "# Add in points to show each observation\n",
    "sns.stripplot(x=\"text_sentiment\", y=\"subject\", data=data,\n",
    "              size=4, color=\".3\", linewidth=0)\n",
    "\n",
    "# Tweak the visual presentation\n",
    "ax.xaxis.grid(True)\n",
    "ax.set(ylabel=\"\")\n",
    "ax.set_title(\"Sentimenal Analysis on True News Text\", fontsize=20)\n",
    "sns.despine(trim=True, left=True)"
   ]
  },
  {
   "cell_type": "code",
   "execution_count": null,
   "id": "dff64d6c",
   "metadata": {},
   "outputs": [],
   "source": [
    "data_n = pd.concat([df_true, df_fake], ignore_index=True)"
   ]
  },
  {
   "cell_type": "code",
   "execution_count": null,
   "id": "568debad",
   "metadata": {},
   "outputs": [],
   "source": [
    "sns.set_theme(style=\"ticks\")\n",
    "\n",
    "# Initialize the figure with a logarithmic x axis\n",
    "f, ax = plt.subplots(figsize=(10, 6))\n",
    "\n",
    "# Load the example planets dataset\n",
    "data=data_n\n",
    "\n",
    "# Plot the orbital period with horizontal boxes\n",
    "sns.boxplot(x=\"text_sentiment\", y=\"subject\", data=data,\n",
    "            whis=[0, 100], width=.6, hue='label')\n",
    "\n",
    "\n",
    "# Tweak the visual presentation\n",
    "ax.xaxis.grid(True)\n",
    "ax.set(ylabel=\"\")\n",
    "ax.set_title(\"Sentimenal Analysis on Text\", fontsize=20)\n",
    "plt.legend(bbox_to_anchor=(1.02, 1), loc='upper left')"
   ]
  },
  {
   "cell_type": "code",
   "execution_count": null,
   "id": "1c82d5e8",
   "metadata": {},
   "outputs": [],
   "source": [
    "sns.set_theme(style=\"ticks\")\n",
    "\n",
    "# Initialize the figure with a logarithmic x axis\n",
    "f, ax = plt.subplots(figsize=(10, 6))\n",
    "\n",
    "# Load the example planets dataset\n",
    "data=data_n\n",
    "\n",
    "# Plot the orbital period with horizontal boxes\n",
    "sns.boxplot(x=\"title_sentiment\", y=\"subject\", data=data,\n",
    "            whis=[0, 100], width=.6, hue='label')\n",
    "\n",
    "\n",
    "# Tweak the visual presentation\n",
    "ax.xaxis.grid(True)\n",
    "ax.set(ylabel=\"\")\n",
    "ax.set_title(\"Sentimenal Analysis on Title\", fontsize=20)\n",
    "plt.legend(bbox_to_anchor=(1.02, 1), loc='upper left')"
   ]
  },
  {
   "cell_type": "code",
   "execution_count": null,
   "id": "40c56b31",
   "metadata": {},
   "outputs": [],
   "source": []
  }
 ],
 "metadata": {
  "kernelspec": {
   "display_name": "Python 3 (ipykernel)",
   "language": "python",
   "name": "python3"
  },
  "language_info": {
   "codemirror_mode": {
    "name": "ipython",
    "version": 3
   },
   "file_extension": ".py",
   "mimetype": "text/x-python",
   "name": "python",
   "nbconvert_exporter": "python",
   "pygments_lexer": "ipython3",
   "version": "3.10.9"
  }
 },
 "nbformat": 4,
 "nbformat_minor": 5
}
